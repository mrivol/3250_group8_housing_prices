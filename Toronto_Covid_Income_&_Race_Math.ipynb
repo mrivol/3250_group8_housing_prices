{
  "nbformat": 4,
  "nbformat_minor": 0,
  "metadata": {
    "colab": {
      "name": "Toronto Covid Income & Race Math.ipynb",
      "provenance": [],
      "collapsed_sections": [],
      "include_colab_link": true
    },
    "kernelspec": {
      "name": "python3",
      "display_name": "Python 3"
    }
  },
  "cells": [
    {
      "cell_type": "markdown",
      "metadata": {
        "id": "view-in-github",
        "colab_type": "text"
      },
      "source": [
        "<a href=\"https://colab.research.google.com/github/mrivol/House-Pricing-Analysis---Group-8---3250/blob/master/Toronto_Covid_Income_%26_Race_Math.ipynb\" target=\"_parent\"><img src=\"https://colab.research.google.com/assets/colab-badge.svg\" alt=\"Open In Colab\"/></a>"
      ]
    },
    {
      "cell_type": "markdown",
      "metadata": {
        "id": "iAaDLaVaJyLW"
      },
      "source": [
        "## Notebook Setup\r\n",
        "This section covers the notebook setup and data loading portion of the project. For the statistical analysis skip forward to the \"What is a fair case-rate?\" section of the notebook.\r\n",
        "\r\n"
      ]
    },
    {
      "cell_type": "code",
      "metadata": {
        "id": "es7TtaD9IzVb"
      },
      "source": [
        "# Package import\r\n",
        "import pandas as pd\r\n",
        "import numpy as np\r\n",
        "import io\r\n",
        "\r\n",
        "from google.colab import auth\r\n",
        "from googleapiclient.discovery import build\r\n",
        "from googleapiclient.http import MediaIoBaseDownload\r\n",
        "\r\n",
        "from scipy.stats import binom"
      ],
      "execution_count": null,
      "outputs": []
    },
    {
      "cell_type": "code",
      "metadata": {
        "id": "UZjSFYvFI4OT"
      },
      "source": [
        "# Authenticate\r\n",
        "auth.authenticate_user()\r\n",
        "drive_service = build('drive', 'v3')"
      ],
      "execution_count": null,
      "outputs": []
    },
    {
      "cell_type": "code",
      "metadata": {
        "colab": {
          "base_uri": "https://localhost:8080/"
        },
        "id": "er2jSRu3I8x7",
        "outputId": "c17180da-8e6d-4fb3-84cd-bf26b4d28dd3"
      },
      "source": [
        "# Load data\r\n",
        "file_id = '1hfYt1Wv_hL4U5JGzOH1-wbxqiqx1DAJp'\r\n",
        "\r\n",
        "request = drive_service.files().get_media(fileId=file_id)\r\n",
        "downloaded = io.BytesIO()\r\n",
        "downloader = MediaIoBaseDownload(downloaded, request)\r\n",
        "done = False\r\n",
        "while done is False:\r\n",
        "  # _ is a placeholder for a progress object that we ignore.\r\n",
        "  # (Our file is small, so we skip reporting progress.)\r\n",
        "  _, done = downloader.next_chunk()\r\n",
        "\r\n",
        "downloaded.seek(0)\r\n",
        "print('finished downloading')"
      ],
      "execution_count": null,
      "outputs": [
        {
          "output_type": "stream",
          "text": [
            "finished downloading\n"
          ],
          "name": "stdout"
        }
      ]
    },
    {
      "cell_type": "code",
      "metadata": {
        "id": "cGVVvBczJQkg"
      },
      "source": [
        "#BytesIO -> Excel workbook\r\n",
        "exfile = pd.ExcelFile(downloaded)\r\n",
        "# get sheets name\r\n",
        "sheets = exfile.book.sheet_names()\r\n",
        "# dictionary of dataframe \r\n",
        "ddf  ={ each : pd.read_excel(exfile,each) for each in sheets}"
      ],
      "execution_count": null,
      "outputs": []
    },
    {
      "cell_type": "code",
      "metadata": {
        "colab": {
          "base_uri": "https://localhost:8080/",
          "height": 177
        },
        "id": "BuBA1PomJTM8",
        "outputId": "9dfff2cb-21f1-4787-da6b-660e91c52340"
      },
      "source": [
        "display(list(ddf.keys()))"
      ],
      "execution_count": null,
      "outputs": [
        {
          "output_type": "display_data",
          "data": {
            "text/plain": [
              "['Ethno-Racial Groups %',\n",
              " 'Ethno-Racial Group case rate',\n",
              " 'Income Group %',\n",
              " 'Income Group case rate',\n",
              " 'Overall Counts',\n",
              " 'Ethno-racial montly %',\n",
              " 'Ethno-racial monthly rate',\n",
              " 'Income monthly %',\n",
              " 'Income monthly rate']"
            ]
          },
          "metadata": {
            "tags": []
          }
        }
      ]
    },
    {
      "cell_type": "markdown",
      "metadata": {
        "id": "RkrjGahB7TpJ"
      },
      "source": [
        "# Data Preparation\r\n",
        "\r\n",
        "  added fair rate, fare cases and covid rate to two dataframes: <br>\r\n",
        "- income group dataframe: *`i_g_all`* \r\n",
        "- ethno-racial group: *`er_g_all `*"
      ]
    },
    {
      "cell_type": "markdown",
      "metadata": {
        "id": "25hU6iY-gBp3"
      },
      "source": [
        "### Ethno-Racial group data"
      ]
    },
    {
      "cell_type": "code",
      "metadata": {
        "colab": {
          "base_uri": "https://localhost:8080/"
        },
        "id": "2k7QYKEegN9J",
        "outputId": "918b3b24-be80-46b3-bdc4-f519a72c6c51"
      },
      "source": [
        "# Etho group names\r\n",
        "er_g = ddf['Ethno-Racial Groups %'] # etho-racial groups\r\n",
        "er_g_all = er_g[er_g['Sex'] == 'All'].copy()\r\n",
        "er_names = er_g_all['Ethno-Racial Group'].tolist()\r\n",
        "er_names"
      ],
      "execution_count": null,
      "outputs": [
        {
          "output_type": "execute_result",
          "data": {
            "text/plain": [
              "['Arab, Middle Eastern or West Asian',\n",
              " 'Black',\n",
              " 'East Asian',\n",
              " 'Latin American',\n",
              " 'South Asian or Indo-Caribbean',\n",
              " 'Southeast Asian',\n",
              " 'White']"
            ]
          },
          "metadata": {
            "tags": []
          },
          "execution_count": 8
        }
      ]
    },
    {
      "cell_type": "code",
      "metadata": {
        "colab": {
          "base_uri": "https://localhost:8080/",
          "height": 321
        },
        "id": "T2Ovy2-UhFgf",
        "outputId": "68fc6669-06be-43a8-a30c-8273ce97d2df"
      },
      "source": [
        "# Exctract Ethno-Racial group population and cases.\r\n",
        "er_tmp = er_g_all.set_index('Ethno-Racial Group') # reset index and stored in temp variable for easier access\r\n",
        "er_pop =  {name: er_tmp.loc[name]['Population'] for name in er_names}\r\n",
        "er_case = {name: er_tmp.loc[name]['Count of COVID-19 cases'] for name in er_names} \r\n",
        "#total population & total cases\r\n",
        "er_tt_p = sum(er_pop.values())\r\n",
        "er_tt_c = sum(er_case.values())\r\n",
        "display('Population',er_pop)\r\n",
        "display('Cases',er_case)\r\n",
        "print('Total Population: {}, Total Cases: {}'.format(er_tt_p,er_tt_c))"
      ],
      "execution_count": null,
      "outputs": [
        {
          "output_type": "display_data",
          "data": {
            "application/vnd.google.colaboratory.intrinsic+json": {
              "type": "string"
            },
            "text/plain": [
              "'Population'"
            ]
          },
          "metadata": {
            "tags": []
          }
        },
        {
          "output_type": "display_data",
          "data": {
            "text/plain": [
              "{'Arab, Middle Eastern or West Asian': 96350,\n",
              " 'Black': 239850,\n",
              " 'East Asian': 354515,\n",
              " 'Latin American': 77165,\n",
              " 'South Asian or Indo-Caribbean': 338970,\n",
              " 'Southeast Asian': 194360,\n",
              " 'White': 1282745}"
            ]
          },
          "metadata": {
            "tags": []
          }
        },
        {
          "output_type": "display_data",
          "data": {
            "application/vnd.google.colaboratory.intrinsic+json": {
              "type": "string"
            },
            "text/plain": [
              "'Cases'"
            ]
          },
          "metadata": {
            "tags": []
          }
        },
        {
          "output_type": "display_data",
          "data": {
            "text/plain": [
              "{'Arab, Middle Eastern or West Asian': 1121,\n",
              " 'Black': 2685,\n",
              " 'East Asian': 533,\n",
              " 'Latin American': 1174,\n",
              " 'South Asian or Indo-Caribbean': 2814,\n",
              " 'Southeast Asian': 1696,\n",
              " 'White': 3007}"
            ]
          },
          "metadata": {
            "tags": []
          }
        },
        {
          "output_type": "stream",
          "text": [
            "Total Population: 2583955, Total Cases: 13030\n"
          ],
          "name": "stdout"
        }
      ]
    },
    {
      "cell_type": "code",
      "metadata": {
        "colab": {
          "base_uri": "https://localhost:8080/",
          "height": 388
        },
        "id": "d3zloIfkmmOz",
        "outputId": "9b8de248-8584-41d5-fbb5-d16f3f3a05d1"
      },
      "source": [
        "# Add Fair Cases, Fair rate & covid rate to dataframe\r\n",
        "er_g_all['Fair Cases'] = er_g_all['Population'] * er_tt_c / er_tt_p\r\n",
        "er_g_all['Fair Rate'] = er_tt_c/er_tt_p\r\n",
        "er_g_all['Fair Cases'] = er_g_all['Fair Cases'].astype(int)\r\n",
        "er_g_all['Covid Rate'] = er_g_all['Count of COVID-19 cases']/er_g_all['Population']\r\n",
        "er_g_all['Covid Index'] = er_g_all['Covid Rate']/er_g_all['Fair Rate']\r\n",
        "\r\n",
        "# reset the index for final dataframe\r\n",
        "er_g_all = er_g_all.reset_index().drop('index',axis = 1) \r\n",
        "er_g_all\r\n"
      ],
      "execution_count": null,
      "outputs": [
        {
          "output_type": "execute_result",
          "data": {
            "text/html": [
              "<div>\n",
              "<style scoped>\n",
              "    .dataframe tbody tr th:only-of-type {\n",
              "        vertical-align: middle;\n",
              "    }\n",
              "\n",
              "    .dataframe tbody tr th {\n",
              "        vertical-align: top;\n",
              "    }\n",
              "\n",
              "    .dataframe thead th {\n",
              "        text-align: right;\n",
              "    }\n",
              "</style>\n",
              "<table border=\"1\" class=\"dataframe\">\n",
              "  <thead>\n",
              "    <tr style=\"text-align: right;\">\n",
              "      <th></th>\n",
              "      <th>Ethno-Racial Group</th>\n",
              "      <th>Sex</th>\n",
              "      <th>Share of COVID-19 cases</th>\n",
              "      <th>Count of COVID-19 cases</th>\n",
              "      <th>Share of Toronto population</th>\n",
              "      <th>Population</th>\n",
              "      <th>Missing</th>\n",
              "      <th>Fair Cases</th>\n",
              "      <th>Fair Rate</th>\n",
              "      <th>Covid Rate</th>\n",
              "      <th>Covid Index</th>\n",
              "    </tr>\n",
              "  </thead>\n",
              "  <tbody>\n",
              "    <tr>\n",
              "      <th>0</th>\n",
              "      <td>Arab, Middle Eastern or West Asian</td>\n",
              "      <td>All</td>\n",
              "      <td>0.084343</td>\n",
              "      <td>1121</td>\n",
              "      <td>0.036105</td>\n",
              "      <td>96350</td>\n",
              "      <td>Analysis excludes those for whom the race ques...</td>\n",
              "      <td>485</td>\n",
              "      <td>0.005043</td>\n",
              "      <td>0.011635</td>\n",
              "      <td>2.307249</td>\n",
              "    </tr>\n",
              "    <tr>\n",
              "      <th>1</th>\n",
              "      <td>Black</td>\n",
              "      <td>All</td>\n",
              "      <td>0.202016</td>\n",
              "      <td>2685</td>\n",
              "      <td>0.089879</td>\n",
              "      <td>239850</td>\n",
              "      <td>Analysis excludes those for whom the race ques...</td>\n",
              "      <td>1209</td>\n",
              "      <td>0.005043</td>\n",
              "      <td>0.011194</td>\n",
              "      <td>2.219960</td>\n",
              "    </tr>\n",
              "    <tr>\n",
              "      <th>2</th>\n",
              "      <td>East Asian</td>\n",
              "      <td>All</td>\n",
              "      <td>0.040102</td>\n",
              "      <td>533</td>\n",
              "      <td>0.132847</td>\n",
              "      <td>354515</td>\n",
              "      <td>Analysis excludes those for whom the race ques...</td>\n",
              "      <td>1787</td>\n",
              "      <td>0.005043</td>\n",
              "      <td>0.001503</td>\n",
              "      <td>0.298149</td>\n",
              "    </tr>\n",
              "    <tr>\n",
              "      <th>3</th>\n",
              "      <td>Latin American</td>\n",
              "      <td>All</td>\n",
              "      <td>0.088330</td>\n",
              "      <td>1174</td>\n",
              "      <td>0.028914</td>\n",
              "      <td>77165</td>\n",
              "      <td>Analysis excludes those for whom the race ques...</td>\n",
              "      <td>389</td>\n",
              "      <td>0.005043</td>\n",
              "      <td>0.015214</td>\n",
              "      <td>3.017090</td>\n",
              "    </tr>\n",
              "    <tr>\n",
              "      <th>4</th>\n",
              "      <td>South Asian or Indo-Caribbean</td>\n",
              "      <td>All</td>\n",
              "      <td>0.211722</td>\n",
              "      <td>2814</td>\n",
              "      <td>0.127020</td>\n",
              "      <td>338970</td>\n",
              "      <td>Analysis excludes those for whom the race ques...</td>\n",
              "      <td>1709</td>\n",
              "      <td>0.005043</td>\n",
              "      <td>0.008302</td>\n",
              "      <td>1.646279</td>\n",
              "    </tr>\n",
              "    <tr>\n",
              "      <th>5</th>\n",
              "      <td>Southeast Asian</td>\n",
              "      <td>All</td>\n",
              "      <td>0.127605</td>\n",
              "      <td>1696</td>\n",
              "      <td>0.072832</td>\n",
              "      <td>194360</td>\n",
              "      <td>Analysis excludes those for whom the race ques...</td>\n",
              "      <td>980</td>\n",
              "      <td>0.005043</td>\n",
              "      <td>0.008726</td>\n",
              "      <td>1.730452</td>\n",
              "    </tr>\n",
              "    <tr>\n",
              "      <th>6</th>\n",
              "      <td>White</td>\n",
              "      <td>All</td>\n",
              "      <td>0.226243</td>\n",
              "      <td>3007</td>\n",
              "      <td>0.480683</td>\n",
              "      <td>1282745</td>\n",
              "      <td>Analysis excludes those for whom the race ques...</td>\n",
              "      <td>6468</td>\n",
              "      <td>0.005043</td>\n",
              "      <td>0.002344</td>\n",
              "      <td>0.464872</td>\n",
              "    </tr>\n",
              "  </tbody>\n",
              "</table>\n",
              "</div>"
            ],
            "text/plain": [
              "                   Ethno-Racial Group  Sex  ...  Covid Rate  Covid Index\n",
              "0  Arab, Middle Eastern or West Asian  All  ...    0.011635     2.307249\n",
              "1                               Black  All  ...    0.011194     2.219960\n",
              "2                          East Asian  All  ...    0.001503     0.298149\n",
              "3                      Latin American  All  ...    0.015214     3.017090\n",
              "4       South Asian or Indo-Caribbean  All  ...    0.008302     1.646279\n",
              "5                     Southeast Asian  All  ...    0.008726     1.730452\n",
              "6                               White  All  ...    0.002344     0.464872\n",
              "\n",
              "[7 rows x 11 columns]"
            ]
          },
          "metadata": {
            "tags": []
          },
          "execution_count": 10
        }
      ]
    },
    {
      "cell_type": "markdown",
      "metadata": {
        "id": "E5LU42q6Q6KF"
      },
      "source": [
        "### Income group data"
      ]
    },
    {
      "cell_type": "code",
      "metadata": {
        "colab": {
          "base_uri": "https://localhost:8080/"
        },
        "id": "ltsOaHPpQ6KH",
        "outputId": "5a072efe-824b-475e-d447-a97bc51263f9"
      },
      "source": [
        "# Income group names\r\n",
        "i_g = ddf['Income Group %'] # Icome groups\r\n",
        "i_g_all = i_g[i_g['Age group'] == 'All'].copy()\r\n",
        "i_names = i_g_all['Income group'].tolist()\r\n",
        "i_names"
      ],
      "execution_count": null,
      "outputs": [
        {
          "output_type": "execute_result",
          "data": {
            "text/plain": [
              "['$0 - $29,999',\n",
              " '$30,000 - $49,999',\n",
              " '$50,000 - $69,999',\n",
              " '$70,000 - $99,999',\n",
              " '$100,000 - $149,999',\n",
              " '$150,000 or more']"
            ]
          },
          "metadata": {
            "tags": []
          },
          "execution_count": 11
        }
      ]
    },
    {
      "cell_type": "code",
      "metadata": {
        "colab": {
          "base_uri": "https://localhost:8080/",
          "height": 285
        },
        "id": "Mg9s66aBQ6KI",
        "outputId": "26c0e79f-a491-4508-88d9-507876c9c9ef"
      },
      "source": [
        "# Income group population and cases.\r\n",
        "i_tmp = i_g_all.set_index('Income group') # reset index and stored in temp variable for easier access\r\n",
        "i_pop =  {name: i_tmp.loc[name]['Population'] for name in i_names}\r\n",
        "i_case = {name: i_tmp.loc[name]['Count of COVID-19 Cases'] for name in i_names} \r\n",
        "#total population & total cases\r\n",
        "i_tt_p = sum(i_pop.values())\r\n",
        "i_tt_c = sum(i_case.values())\r\n",
        "display('Population',i_pop)\r\n",
        "display('Cases',i_case)\r\n",
        "print('Total Population: {}, Total Cases: {}'.format(i_tt_p,i_tt_c))"
      ],
      "execution_count": null,
      "outputs": [
        {
          "output_type": "display_data",
          "data": {
            "application/vnd.google.colaboratory.intrinsic+json": {
              "type": "string"
            },
            "text/plain": [
              "'Population'"
            ]
          },
          "metadata": {
            "tags": []
          }
        },
        {
          "output_type": "display_data",
          "data": {
            "text/plain": [
              "{'$0 - $29,999': 386130,\n",
              " '$100,000 - $149,999': 489885,\n",
              " '$150,000 or more': 565950,\n",
              " '$30,000 - $49,999': 404255,\n",
              " '$50,000 - $69,999': 379395,\n",
              " '$70,000 - $99,999': 466050}"
            ]
          },
          "metadata": {
            "tags": []
          }
        },
        {
          "output_type": "display_data",
          "data": {
            "application/vnd.google.colaboratory.intrinsic+json": {
              "type": "string"
            },
            "text/plain": [
              "'Cases'"
            ]
          },
          "metadata": {
            "tags": []
          }
        },
        {
          "output_type": "display_data",
          "data": {
            "text/plain": [
              "{'$0 - $29,999': 1838,\n",
              " '$100,000 - $149,999': 865,\n",
              " '$150,000 or more': 639,\n",
              " '$30,000 - $49,999': 1810,\n",
              " '$50,000 - $69,999': 1227,\n",
              " '$70,000 - $99,999': 1161}"
            ]
          },
          "metadata": {
            "tags": []
          }
        },
        {
          "output_type": "stream",
          "text": [
            "Total Population: 2691665, Total Cases: 7540\n"
          ],
          "name": "stdout"
        }
      ]
    },
    {
      "cell_type": "code",
      "metadata": {
        "colab": {
          "base_uri": "https://localhost:8080/",
          "height": 341
        },
        "id": "U6TM9XTSQ6KJ",
        "outputId": "f25c055c-97d2-4f62-fd8d-047ead5db894"
      },
      "source": [
        "# Add Fair Cases, Fair rate & Covid rate to dataframe\r\n",
        "i_g_all['Fair Cases'] = i_g_all['Population'] * i_tt_c / i_tt_p\r\n",
        "i_g_all['Fair Rate'] = i_tt_c/i_tt_p\r\n",
        "i_g_all['Fair Cases'] = i_g_all['Fair Cases'].astype(int)\r\n",
        "i_g_all['Covid Rate'] = i_g_all['Count of COVID-19 Cases']/i_g_all['Population']\r\n",
        "i_g_all['Covid Index'] = i_g_all['Covid Rate']/i_g_all['Fair Rate']\r\n",
        "\r\n",
        "# reset the index for final dataframe\r\n",
        "i_g_all = i_g_all.reset_index().drop('index',axis = 1) \r\n",
        "i_g_all\r\n"
      ],
      "execution_count": null,
      "outputs": [
        {
          "output_type": "execute_result",
          "data": {
            "text/html": [
              "<div>\n",
              "<style scoped>\n",
              "    .dataframe tbody tr th:only-of-type {\n",
              "        vertical-align: middle;\n",
              "    }\n",
              "\n",
              "    .dataframe tbody tr th {\n",
              "        vertical-align: top;\n",
              "    }\n",
              "\n",
              "    .dataframe thead th {\n",
              "        text-align: right;\n",
              "    }\n",
              "</style>\n",
              "<table border=\"1\" class=\"dataframe\">\n",
              "  <thead>\n",
              "    <tr style=\"text-align: right;\">\n",
              "      <th></th>\n",
              "      <th>Income group</th>\n",
              "      <th>Age group</th>\n",
              "      <th>Share of COVID-19 cases</th>\n",
              "      <th>Count of COVID-19 Cases</th>\n",
              "      <th>Share of Toronto population</th>\n",
              "      <th>Population</th>\n",
              "      <th>Missing</th>\n",
              "      <th>Fair Cases</th>\n",
              "      <th>Fair Rate</th>\n",
              "      <th>Covid Rate</th>\n",
              "      <th>Covid Index</th>\n",
              "    </tr>\n",
              "  </thead>\n",
              "  <tbody>\n",
              "    <tr>\n",
              "      <th>0</th>\n",
              "      <td>$0 - $29,999</td>\n",
              "      <td>All</td>\n",
              "      <td>0.243767</td>\n",
              "      <td>1838</td>\n",
              "      <td>0.143454</td>\n",
              "      <td>386130</td>\n",
              "      <td>Analysis excludes those for whom the income qu...</td>\n",
              "      <td>1081</td>\n",
              "      <td>0.002801</td>\n",
              "      <td>0.004760</td>\n",
              "      <td>1.699267</td>\n",
              "    </tr>\n",
              "    <tr>\n",
              "      <th>1</th>\n",
              "      <td>$30,000 - $49,999</td>\n",
              "      <td>All</td>\n",
              "      <td>0.240053</td>\n",
              "      <td>1810</td>\n",
              "      <td>0.150188</td>\n",
              "      <td>404255</td>\n",
              "      <td>Analysis excludes those for whom the income qu...</td>\n",
              "      <td>1132</td>\n",
              "      <td>0.002801</td>\n",
              "      <td>0.004477</td>\n",
              "      <td>1.598353</td>\n",
              "    </tr>\n",
              "    <tr>\n",
              "      <th>2</th>\n",
              "      <td>$50,000 - $69,999</td>\n",
              "      <td>All</td>\n",
              "      <td>0.162732</td>\n",
              "      <td>1227</td>\n",
              "      <td>0.140952</td>\n",
              "      <td>379395</td>\n",
              "      <td>Analysis excludes those for whom the income qu...</td>\n",
              "      <td>1062</td>\n",
              "      <td>0.002801</td>\n",
              "      <td>0.003234</td>\n",
              "      <td>1.154523</td>\n",
              "    </tr>\n",
              "    <tr>\n",
              "      <th>3</th>\n",
              "      <td>$70,000 - $99,999</td>\n",
              "      <td>All</td>\n",
              "      <td>0.153979</td>\n",
              "      <td>1161</td>\n",
              "      <td>0.173146</td>\n",
              "      <td>466050</td>\n",
              "      <td>Analysis excludes those for whom the income qu...</td>\n",
              "      <td>1305</td>\n",
              "      <td>0.002801</td>\n",
              "      <td>0.002491</td>\n",
              "      <td>0.889302</td>\n",
              "    </tr>\n",
              "    <tr>\n",
              "      <th>4</th>\n",
              "      <td>$100,000 - $149,999</td>\n",
              "      <td>All</td>\n",
              "      <td>0.114721</td>\n",
              "      <td>865</td>\n",
              "      <td>0.182001</td>\n",
              "      <td>489885</td>\n",
              "      <td>Analysis excludes those for whom the income qu...</td>\n",
              "      <td>1372</td>\n",
              "      <td>0.002801</td>\n",
              "      <td>0.001766</td>\n",
              "      <td>0.630335</td>\n",
              "    </tr>\n",
              "    <tr>\n",
              "      <th>5</th>\n",
              "      <td>$150,000 or more</td>\n",
              "      <td>All</td>\n",
              "      <td>0.084748</td>\n",
              "      <td>639</td>\n",
              "      <td>0.210260</td>\n",
              "      <td>565950</td>\n",
              "      <td>Analysis excludes those for whom the income qu...</td>\n",
              "      <td>1585</td>\n",
              "      <td>0.002801</td>\n",
              "      <td>0.001129</td>\n",
              "      <td>0.403063</td>\n",
              "    </tr>\n",
              "  </tbody>\n",
              "</table>\n",
              "</div>"
            ],
            "text/plain": [
              "          Income group Age group  ...  Covid Rate  Covid Index\n",
              "0         $0 - $29,999       All  ...    0.004760     1.699267\n",
              "1    $30,000 - $49,999       All  ...    0.004477     1.598353\n",
              "2    $50,000 - $69,999       All  ...    0.003234     1.154523\n",
              "3    $70,000 - $99,999       All  ...    0.002491     0.889302\n",
              "4  $100,000 - $149,999       All  ...    0.001766     0.630335\n",
              "5     $150,000 or more       All  ...    0.001129     0.403063\n",
              "\n",
              "[6 rows x 11 columns]"
            ]
          },
          "metadata": {
            "tags": []
          },
          "execution_count": 13
        }
      ]
    },
    {
      "cell_type": "markdown",
      "metadata": {
        "id": "O7enwm8_MT4J"
      },
      "source": [
        "## What is a fair case-rate?\n",
        "\n",
        "If Covid-19 affects all groups equally, then the probability of someone from any particular group getting infected should be:\n",
        "\n",
        "$$\n",
        "\\frac{\\text{Total Covid-19 Cases} \\times \\text{Population of Group}}{\\text{Population of All Groups (sum)}}\n",
        "$$\n",
        "\n",
        "However, if we look at the case rates across income or ehtno-racial group, we can see that it is not fair. So the question we try to solve with Hypothesis testing, is whether the difference is significant for us to say that the income or ethno-racial group affects the Covid-19 case rate (and not random).\n",
        "\n",
        "**Note**: The COVID index refers to how much more likely a sample population is to test positive for COVID vs the fair rate."
      ]
    },
    {
      "cell_type": "code",
      "metadata": {
        "id": "ucFaaEw8QDn5",
        "colab": {
          "base_uri": "https://localhost:8080/"
        },
        "outputId": "4bb6ecf6-6e85-4161-e507-43256c6cff5e"
      },
      "source": [
        "# Create one table of: Ethno-Racial Group|Fair Case Number|Actual Case Number|Covid Index\n",
        "er_caseload = er_g_all[['Ethno-Racial Group','Fair Cases','Count of COVID-19 cases','Covid Index']]\n",
        "er_caseload.sort_values(by='Covid Index', inplace=True, ascending=False)\n",
        "\n",
        "# Create one table of: Income Group|Fair Case Number|Actual Case Number|Covid Index\n",
        "i_caseload = i_g_all[['Income group','Fair Cases','Count of COVID-19 Cases','Covid Index']]\n",
        "i_caseload.sort_values(by='Covid Index', inplace=True, ascending=False)"
      ],
      "execution_count": null,
      "outputs": [
        {
          "output_type": "stream",
          "text": [
            "/usr/local/lib/python3.6/dist-packages/ipykernel_launcher.py:3: SettingWithCopyWarning: \n",
            "A value is trying to be set on a copy of a slice from a DataFrame\n",
            "\n",
            "See the caveats in the documentation: https://pandas.pydata.org/pandas-docs/stable/user_guide/indexing.html#returning-a-view-versus-a-copy\n",
            "  This is separate from the ipykernel package so we can avoid doing imports until\n",
            "/usr/local/lib/python3.6/dist-packages/ipykernel_launcher.py:7: SettingWithCopyWarning: \n",
            "A value is trying to be set on a copy of a slice from a DataFrame\n",
            "\n",
            "See the caveats in the documentation: https://pandas.pydata.org/pandas-docs/stable/user_guide/indexing.html#returning-a-view-versus-a-copy\n",
            "  import sys\n"
          ],
          "name": "stderr"
        }
      ]
    },
    {
      "cell_type": "code",
      "metadata": {
        "colab": {
          "base_uri": "https://localhost:8080/",
          "height": 508
        },
        "id": "Nn1OoV2LO1Je",
        "outputId": "a0201537-96cc-44aa-bbfc-2126b058ff3f"
      },
      "source": [
        "# Create a plot for ethno-racial group so we can easily see if the Actual Case Number is above or below the Fair Case Number\r\n",
        "ax = er_caseload.plot(x='Ethno-Racial Group',y=['Count of COVID-19 cases','Fair Cases'], kind='bar')\r\n",
        "er_caseload.plot('Ethno-Racial Group','Covid Index', color='m', secondary_y=True, ax=ax, figsize = (12,6),title='Sample & Fair COVID-19 Caseload by Ethno-Racial Group', rot=30,legend=True)\r\n",
        "plt.legend(['Count of COVID-19 cases','Fair Cases', \"Covid Indexxx\"])"
      ],
      "execution_count": null,
      "outputs": [
        {
          "output_type": "execute_result",
          "data": {
            "text/plain": [
              "<matplotlib.legend.Legend at 0x7f6e0a60f5f8>"
            ]
          },
          "metadata": {
            "tags": []
          },
          "execution_count": 44
        },
        {
          "output_type": "display_data",
          "data": {
            "image/png": "[encoded data removed]",
            "text/plain": [
              "<Figure size 864x432 with 2 Axes>"
            ]
          },
          "metadata": {
            "tags": [],
            "needs_background": "light"
          }
        }
      ]
    },
    {
      "cell_type": "code",
      "metadata": {
        "colab": {
          "base_uri": "https://localhost:8080/",
          "height": 425
        },
        "id": "AAgQ0CUvDINt",
        "outputId": "28b2d42c-d421-420c-f6df-c0996feccf23"
      },
      "source": [
        "ax = i_caseload.plot(x='Income group',y=['Count of COVID-19 Cases','Fair Cases'], kind='bar')\r\n",
        "i_caseload.plot('Income group','Covid Index', color='m', secondary_y=True, ax=ax, figsize = (12,6),title='Sample & Fair COVID-19 Caseload by Income Group')"
      ],
      "execution_count": null,
      "outputs": [
        {
          "output_type": "execute_result",
          "data": {
            "text/plain": [
              "<matplotlib.axes._subplots.AxesSubplot at 0x7f6e0a973f60>"
            ]
          },
          "metadata": {
            "tags": []
          },
          "execution_count": 16
        },
        {
          "output_type": "display_data",
          "data": {
            "image/png": "[encoded data removed]",
            "text/plain": [
              "<Figure size 864x432 with 2 Axes>"
            ]
          },
          "metadata": {
            "tags": [],
            "needs_background": "light"
          }
        }
      ]
    },
    {
      "cell_type": "markdown",
      "metadata": {
        "id": "ddjhhqJnSlGt"
      },
      "source": [
        "## Hypotheses\n",
        "\n",
        "For each group, we need to determine the null and alternative hypothesis. The null hypothesis assumes the case rate is fair.\n",
        "\n",
        "$\n",
        "\\text{Let } n_{group} \\text{ be the population of the group}\\\\\n",
        "\\text{Let } n_{covid} \\text{ be the total number of Covid-19 cases}\\\\\n",
        "\\text{Let } n_{all} \\text{ be the sum of the populations of all groups}\\\\\n",
        "\\text{Let } X \\text{ be the random variable } ``\\text{number of Covid-19 cases within the group\"} \\text{ where } X \\sim B(n_{group}, p) \\\\\n",
        "$\n",
        "$$\n",
        "\\begin{aligned}\n",
        "H_0 &: &p = \\frac{n_{covid}}{n_{all}}\\\\\n",
        "\\\\\n",
        "H_1 &: &p \\ne \\frac{n_{covid}}{n_{all}}\n",
        "\\end{aligned}\n",
        "$$"
      ]
    },
    {
      "cell_type": "markdown",
      "metadata": {
        "id": "q9s9pMC_Wr47"
      },
      "source": [
        "## Two-Tailed Test\n",
        "\n",
        "### Lower Tail\n",
        "\n",
        "$\n",
        "\\begin{aligned}\n",
        "\\text{Reject } H_0 \\text{ if } &P(X \\le x_{lower}) \\le \\frac{1}{2}\\alpha\\\\\n",
        "\\therefore x_{lower} ={} &Q(\\frac{1}{2}\\alpha, n_{group}, p)\n",
        "\\end{aligned}\n",
        "$\n",
        "\n",
        "### Upper Tail\n",
        "\n",
        "$\n",
        "\\begin{aligned}\n",
        "\\text{Reject } H_0 \\text{ if } &P(X \\ge x_{upper}) \\le \\frac{1}{2}\\alpha \\\\\n",
        "1 - &P(X \\le x_{upper} -1) \\le \\frac{1}{2}\\alpha\\\\\n",
        "&P(X \\le x_{upper} -1) \\ge 1 - \\frac{1}{2}\\alpha\\\\\n",
        "\\therefore x_{upper} ={} &Q(1-\\frac{1}{2}\\alpha, n_{group}, p) + 1\n",
        "\\end{aligned}\n",
        "$"
      ]
    },
    {
      "cell_type": "code",
      "metadata": {
        "id": "5XbQjLbsYLm4"
      },
      "source": [
        "# From https://docs.scipy.org/doc/scipy/reference/generated/scipy.stats.binom.html\n",
        "\n",
        "alpha = 0.1\n",
        "\n",
        "er_fair_prob = er_tt_c/er_tt_p\n",
        "i_fair_prob = i_tt_c/i_tt_p\n",
        "\n",
        "# Lower tail: lower x = binom.ppf(q=half alpha, n=population of group, p=fair probability)\n",
        "# Upper tail: upper x = binom.ppf(q=1 - half alpha, n=population of group, p=fair probability)\n",
        "\n",
        "# Determine tails for the different ethnic groups\n",
        "eg_lower_tails = []\n",
        "eg_upper_tails = []\n",
        "\n",
        "for i in er_names:\n",
        "  n = er_g_all[er_g_all['Ethno-Racial Group'] == i]['Population'].sum()\n",
        "  eg_lower_tails.append(binom.ppf(q=alpha/2, n=n, p=er_fair_prob))\n",
        "  eg_upper_tails.append(binom.ppf(q=1-alpha/2, n=n, p=er_fair_prob))\n",
        "\n",
        "# Determine tails for the different income groups\n",
        "i_lower_tails = []\n",
        "i_upper_tails = []\n",
        "\n",
        "for i in i_names:\n",
        "  n = i_g_all[i_g_all['Income group'] == i]['Population'].sum()\n",
        "  i_lower_tails.append(binom.ppf(q=alpha/2, n=n, p=i_fair_prob))\n",
        "  i_upper_tails.append(binom.ppf(q=1-alpha/2, n=n, p=i_fair_prob))\n",
        "\n",
        "# Append to Ethno-Racial Group Table (Lower Tail, Upper Tail): Ethno-Racial Group|Fair Case Rate|Actual Case Rate|Covid Index|Upper Tail|Lower Tail\n",
        "eg_tail_df = pd.DataFrame(\n",
        "    {'Ethno-Racial Group': er_names,\n",
        "     'Lower tail': eg_lower_tails,\n",
        "     'Upper tail': eg_upper_tails\n",
        "    })\n",
        "\n",
        "er_caseload_w_tails = er_caseload.merge(eg_tail_df)\n",
        "\n",
        "# Append to Income Group Table (Lower Tail, Upper Tail): Income Group|Fair Case Rate|Actual Case Rate|Covid Index|Upper Tail|Lower Tail\n",
        "i_tail_df = pd.DataFrame(\n",
        "    {'Income group': i_names,\n",
        "     'Lower tail': i_lower_tails,\n",
        "     'Upper tail': i_upper_tails\n",
        "    })\n",
        "\n",
        "i_caseload_w_tails = i_caseload.merge(i_tail_df)"
      ],
      "execution_count": null,
      "outputs": []
    },
    {
      "cell_type": "code",
      "metadata": {
        "colab": {
          "base_uri": "https://localhost:8080/",
          "height": 252
        },
        "id": "Ce6n-eDCLj0A",
        "outputId": "1a6206d8-63b7-442c-e5d5-b996d0350817"
      },
      "source": [
        "# Show the table with lower and upper tails for ethnic groups\r\n",
        "er_caseload_w_tails"
      ],
      "execution_count": null,
      "outputs": [
        {
          "output_type": "execute_result",
          "data": {
            "text/html": [
              "<div>\n",
              "<style scoped>\n",
              "    .dataframe tbody tr th:only-of-type {\n",
              "        vertical-align: middle;\n",
              "    }\n",
              "\n",
              "    .dataframe tbody tr th {\n",
              "        vertical-align: top;\n",
              "    }\n",
              "\n",
              "    .dataframe thead th {\n",
              "        text-align: right;\n",
              "    }\n",
              "</style>\n",
              "<table border=\"1\" class=\"dataframe\">\n",
              "  <thead>\n",
              "    <tr style=\"text-align: right;\">\n",
              "      <th></th>\n",
              "      <th>Ethno-Racial Group</th>\n",
              "      <th>Fair Cases</th>\n",
              "      <th>Count of COVID-19 cases</th>\n",
              "      <th>Covid Index</th>\n",
              "      <th>Lower tail</th>\n",
              "      <th>Upper tail</th>\n",
              "    </tr>\n",
              "  </thead>\n",
              "  <tbody>\n",
              "    <tr>\n",
              "      <th>0</th>\n",
              "      <td>Latin American</td>\n",
              "      <td>389</td>\n",
              "      <td>1174</td>\n",
              "      <td>3.017090</td>\n",
              "      <td>357.0</td>\n",
              "      <td>422.0</td>\n",
              "    </tr>\n",
              "    <tr>\n",
              "      <th>1</th>\n",
              "      <td>Arab, Middle Eastern or West Asian</td>\n",
              "      <td>485</td>\n",
              "      <td>1121</td>\n",
              "      <td>2.307249</td>\n",
              "      <td>450.0</td>\n",
              "      <td>522.0</td>\n",
              "    </tr>\n",
              "    <tr>\n",
              "      <th>2</th>\n",
              "      <td>Black</td>\n",
              "      <td>1209</td>\n",
              "      <td>2685</td>\n",
              "      <td>2.219960</td>\n",
              "      <td>1153.0</td>\n",
              "      <td>1267.0</td>\n",
              "    </tr>\n",
              "    <tr>\n",
              "      <th>3</th>\n",
              "      <td>Southeast Asian</td>\n",
              "      <td>980</td>\n",
              "      <td>1696</td>\n",
              "      <td>1.730452</td>\n",
              "      <td>929.0</td>\n",
              "      <td>1032.0</td>\n",
              "    </tr>\n",
              "    <tr>\n",
              "      <th>4</th>\n",
              "      <td>South Asian or Indo-Caribbean</td>\n",
              "      <td>1709</td>\n",
              "      <td>2814</td>\n",
              "      <td>1.646279</td>\n",
              "      <td>1642.0</td>\n",
              "      <td>1777.0</td>\n",
              "    </tr>\n",
              "    <tr>\n",
              "      <th>5</th>\n",
              "      <td>White</td>\n",
              "      <td>6468</td>\n",
              "      <td>3007</td>\n",
              "      <td>0.464872</td>\n",
              "      <td>6337.0</td>\n",
              "      <td>6601.0</td>\n",
              "    </tr>\n",
              "    <tr>\n",
              "      <th>6</th>\n",
              "      <td>East Asian</td>\n",
              "      <td>1787</td>\n",
              "      <td>533</td>\n",
              "      <td>0.298149</td>\n",
              "      <td>1719.0</td>\n",
              "      <td>1857.0</td>\n",
              "    </tr>\n",
              "  </tbody>\n",
              "</table>\n",
              "</div>"
            ],
            "text/plain": [
              "                   Ethno-Racial Group  Fair Cases  ...  Lower tail  Upper tail\n",
              "0                      Latin American         389  ...       357.0       422.0\n",
              "1  Arab, Middle Eastern or West Asian         485  ...       450.0       522.0\n",
              "2                               Black        1209  ...      1153.0      1267.0\n",
              "3                     Southeast Asian         980  ...       929.0      1032.0\n",
              "4       South Asian or Indo-Caribbean        1709  ...      1642.0      1777.0\n",
              "5                               White        6468  ...      6337.0      6601.0\n",
              "6                          East Asian        1787  ...      1719.0      1857.0\n",
              "\n",
              "[7 rows x 6 columns]"
            ]
          },
          "metadata": {
            "tags": []
          },
          "execution_count": 18
        }
      ]
    },
    {
      "cell_type": "code",
      "metadata": {
        "colab": {
          "base_uri": "https://localhost:8080/",
          "height": 223
        },
        "id": "I3mc0Z52LfCH",
        "outputId": "19c62b6b-21d3-4054-8c87-aa4462b9c02d"
      },
      "source": [
        "# Show the table with lower and upper tails for income groups\r\n",
        "i_caseload_w_tails"
      ],
      "execution_count": null,
      "outputs": [
        {
          "output_type": "execute_result",
          "data": {
            "text/html": [
              "<div>\n",
              "<style scoped>\n",
              "    .dataframe tbody tr th:only-of-type {\n",
              "        vertical-align: middle;\n",
              "    }\n",
              "\n",
              "    .dataframe tbody tr th {\n",
              "        vertical-align: top;\n",
              "    }\n",
              "\n",
              "    .dataframe thead th {\n",
              "        text-align: right;\n",
              "    }\n",
              "</style>\n",
              "<table border=\"1\" class=\"dataframe\">\n",
              "  <thead>\n",
              "    <tr style=\"text-align: right;\">\n",
              "      <th></th>\n",
              "      <th>Income group</th>\n",
              "      <th>Fair Cases</th>\n",
              "      <th>Count of COVID-19 Cases</th>\n",
              "      <th>Covid Index</th>\n",
              "      <th>Lower tail</th>\n",
              "      <th>Upper tail</th>\n",
              "    </tr>\n",
              "  </thead>\n",
              "  <tbody>\n",
              "    <tr>\n",
              "      <th>0</th>\n",
              "      <td>$0 - $29,999</td>\n",
              "      <td>1081</td>\n",
              "      <td>1838</td>\n",
              "      <td>1.699267</td>\n",
              "      <td>1028.0</td>\n",
              "      <td>1136.0</td>\n",
              "    </tr>\n",
              "    <tr>\n",
              "      <th>1</th>\n",
              "      <td>$30,000 - $49,999</td>\n",
              "      <td>1132</td>\n",
              "      <td>1810</td>\n",
              "      <td>1.598353</td>\n",
              "      <td>1077.0</td>\n",
              "      <td>1188.0</td>\n",
              "    </tr>\n",
              "    <tr>\n",
              "      <th>2</th>\n",
              "      <td>$50,000 - $69,999</td>\n",
              "      <td>1062</td>\n",
              "      <td>1227</td>\n",
              "      <td>1.154523</td>\n",
              "      <td>1010.0</td>\n",
              "      <td>1117.0</td>\n",
              "    </tr>\n",
              "    <tr>\n",
              "      <th>3</th>\n",
              "      <td>$70,000 - $99,999</td>\n",
              "      <td>1305</td>\n",
              "      <td>1161</td>\n",
              "      <td>0.889302</td>\n",
              "      <td>1246.0</td>\n",
              "      <td>1365.0</td>\n",
              "    </tr>\n",
              "    <tr>\n",
              "      <th>4</th>\n",
              "      <td>$100,000 - $149,999</td>\n",
              "      <td>1372</td>\n",
              "      <td>865</td>\n",
              "      <td>0.630335</td>\n",
              "      <td>1312.0</td>\n",
              "      <td>1433.0</td>\n",
              "    </tr>\n",
              "    <tr>\n",
              "      <th>5</th>\n",
              "      <td>$150,000 or more</td>\n",
              "      <td>1585</td>\n",
              "      <td>639</td>\n",
              "      <td>0.403063</td>\n",
              "      <td>1520.0</td>\n",
              "      <td>1651.0</td>\n",
              "    </tr>\n",
              "  </tbody>\n",
              "</table>\n",
              "</div>"
            ],
            "text/plain": [
              "          Income group  Fair Cases  ...  Lower tail  Upper tail\n",
              "0         $0 - $29,999        1081  ...      1028.0      1136.0\n",
              "1    $30,000 - $49,999        1132  ...      1077.0      1188.0\n",
              "2    $50,000 - $69,999        1062  ...      1010.0      1117.0\n",
              "3    $70,000 - $99,999        1305  ...      1246.0      1365.0\n",
              "4  $100,000 - $149,999        1372  ...      1312.0      1433.0\n",
              "5     $150,000 or more        1585  ...      1520.0      1651.0\n",
              "\n",
              "[6 rows x 6 columns]"
            ]
          },
          "metadata": {
            "tags": []
          },
          "execution_count": 19
        }
      ]
    },
    {
      "cell_type": "markdown",
      "metadata": {
        "id": "G_2Xq0IycKVZ"
      },
      "source": [
        "## Did Ethno-Racial Group or Income Group Affect Covid-19 Case-Rate?\n",
        "\n",
        "Based on the above calculations we found the group to affect the case-rate."
      ]
    },
    {
      "cell_type": "code",
      "metadata": {
        "colab": {
          "base_uri": "https://localhost:8080/",
          "height": 508
        },
        "id": "c-0YSxWYMH6p",
        "outputId": "7f5d7e8a-2754-440f-9e5e-1edc768d9bf1"
      },
      "source": [
        "# Create a plot for ethno-racial group so we can easily see for which groups the case-rate passed the upper or lower tail - all of them. Highlight these groups in our conclusion.\r\n",
        "ax = er_caseload_w_tails.plot(x='Ethno-Racial Group',y=['Count of COVID-19 cases'], kind='bar')\r\n",
        "plt = er_caseload_w_tails.plot('Ethno-Racial Group',['Lower tail','Upper tail'], color=['g','r'], ax=ax, figsize = (12,6),title='Actual COVID caseload vs upper and lower expectations by ethnic group', rot=30)\r\n",
        "plt.legend(facecolor='white', framealpha=1)"
      ],
      "execution_count": null,
      "outputs": [
        {
          "output_type": "execute_result",
          "data": {
            "text/plain": [
              "<matplotlib.legend.Legend at 0x7f6e0a8eb668>"
            ]
          },
          "metadata": {
            "tags": []
          },
          "execution_count": 37
        },
        {
          "output_type": "display_data",
          "data": {
            "image/png": "[encoded data removed]",
            "text/plain": [
              "<Figure size 864x432 with 1 Axes>"
            ]
          },
          "metadata": {
            "tags": [],
            "needs_background": "light"
          }
        }
      ]
    },
    {
      "cell_type": "code",
      "metadata": {
        "colab": {
          "base_uri": "https://localhost:8080/",
          "height": 425
        },
        "id": "LmiCg_94NDXG",
        "outputId": "19a2af4d-56a7-40ee-a21c-aba816448e7c"
      },
      "source": [
        "# Create a plot for income group so we can easily see for which groups the case-rate passed the upper or lower tail - all of them. Highlight these groups in our conclusion.\r\n",
        "ax = i_caseload_w_tails.plot(x='Income group',y=['Count of COVID-19 Cases'], kind='bar')\r\n",
        "i_caseload_w_tails.plot('Income group',['Lower tail','Upper tail'], color=['g','r'], ax=ax, figsize = (12,6),title='Actual COVID caseload vs upper and lower expectations by income group')"
      ],
      "execution_count": null,
      "outputs": [
        {
          "output_type": "execute_result",
          "data": {
            "text/plain": [
              "<matplotlib.axes._subplots.AxesSubplot at 0x7f6e0a916390>"
            ]
          },
          "metadata": {
            "tags": []
          },
          "execution_count": 21
        },
        {
          "output_type": "display_data",
          "data": {
            "image/png": "[encoded data removed]",
            "text/plain": [
              "<Figure size 864x432 with 1 Axes>"
            ]
          },
          "metadata": {
            "tags": [],
            "needs_background": "light"
          }
        }
      ]
    }
  ]
}